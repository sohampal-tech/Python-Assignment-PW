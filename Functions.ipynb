{
  "nbformat": 4,
  "nbformat_minor": 0,
  "metadata": {
    "colab": {
      "provenance": []
    },
    "kernelspec": {
      "name": "python3",
      "display_name": "Python 3"
    },
    "language_info": {
      "name": "python"
    }
  },
  "cells": [
    {
      "cell_type": "markdown",
      "source": [
        "Theory Questions:"
      ],
      "metadata": {
        "id": "GJS2lp9WkGDa"
      }
    },
    {
      "cell_type": "markdown",
      "source": [
        "1. What is the difference between a function and a method in Python?\n",
        "\n",
        " Answer:\n",
        "-  A function is a block of code that performs a specific task and is defined using the def keyword.\n",
        "\n",
        "-  A method is a function that is associated with an object (like a list or string) and is called using dot (.) notation.\n",
        "\n",
        "-  Example:"
      ],
      "metadata": {
        "id": "Y4uovhHykXcD"
      }
    },
    {
      "cell_type": "code",
      "source": [
        "def greet():\n",
        "    print(\"Hello\")  # Function\n",
        "\n",
        "\"hello\".upper()  # .upper() is a method of a string"
      ],
      "metadata": {
        "colab": {
          "base_uri": "https://localhost:8080/",
          "height": 36
        },
        "id": "BBmLARKUqArD",
        "outputId": "5bf7f6d7-6eba-4c77-e17b-b53efcad25ff"
      },
      "execution_count": 1,
      "outputs": [
        {
          "output_type": "execute_result",
          "data": {
            "text/plain": [
              "'HELLO'"
            ],
            "application/vnd.google.colaboratory.intrinsic+json": {
              "type": "string"
            }
          },
          "metadata": {},
          "execution_count": 1
        }
      ]
    },
    {
      "cell_type": "markdown",
      "source": [
        "2. Explain the concept of function arguments and parameters in Python.\n",
        "\n",
        "  Answer:\n",
        "\n",
        "-  Parameters are the names listed in the function definition.\n",
        "\n",
        "-  Arguments are the actual values passed when the function is called.\n",
        "\n",
        "-  Example:\n",
        "\n"
      ],
      "metadata": {
        "id": "oAoNZlEyqXzA"
      }
    },
    {
      "cell_type": "code",
      "execution_count": 2,
      "metadata": {
        "colab": {
          "base_uri": "https://localhost:8080/"
        },
        "id": "_EfFi5zNjyRT",
        "outputId": "86c6f056-85b2-457b-be11-0056bb70ec2a"
      },
      "outputs": [
        {
          "output_type": "stream",
          "name": "stdout",
          "text": [
            "5\n"
          ]
        }
      ],
      "source": [
        "def add(a, b):  # 'a' and 'b' are parameters\n",
        "    return a + b\n",
        "\n",
        "print(add(2, 3))  # 2 and 3 are arguments"
      ]
    },
    {
      "cell_type": "markdown",
      "source": [
        "3. What are the different ways to define and call a function in Python?\n",
        "\n",
        " Answer:\n",
        "-  Using def for named functions\n",
        "\n",
        "-  Using lambda small for anonymous functions\n",
        "\n",
        "-  Call the function using parentheses ()\n",
        "\n",
        "- Example:"
      ],
      "metadata": {
        "id": "4pRHSEBQrHMk"
      }
    },
    {
      "cell_type": "code",
      "source": [
        "def square(x):\n",
        "    return x * x\n",
        "\n",
        "print(square(3))  # Calling\n",
        "\n",
        "double = lambda x: x * 2\n",
        "print(double(2))  # Lambda function\n",
        "\n"
      ],
      "metadata": {
        "colab": {
          "base_uri": "https://localhost:8080/"
        },
        "id": "_15OFC6KredK",
        "outputId": "ab86aaf4-b395-487d-8a35-15e7c4dc522f"
      },
      "execution_count": 3,
      "outputs": [
        {
          "output_type": "stream",
          "name": "stdout",
          "text": [
            "9\n",
            "4\n"
          ]
        }
      ]
    },
    {
      "cell_type": "markdown",
      "source": [
        "4. What is the purpose of the return statement in a Python function?\n",
        "\n",
        " Answer:\n",
        "\n",
        "-  It ends the function and sends back a result to where the function was called.\n",
        "\n",
        "-  Example:"
      ],
      "metadata": {
        "id": "htut6iDXroGp"
      }
    },
    {
      "cell_type": "code",
      "source": [
        "def multiply(a, b):\n",
        "    return a * b\n",
        "\n",
        "print(multiply(2, 3))  #Output:6"
      ],
      "metadata": {
        "colab": {
          "base_uri": "https://localhost:8080/"
        },
        "id": "kYm-fbBPr7FN",
        "outputId": "f8695b68-c905-40b6-fdfa-e3e824a68872"
      },
      "execution_count": 4,
      "outputs": [
        {
          "output_type": "stream",
          "name": "stdout",
          "text": [
            "6\n"
          ]
        }
      ]
    },
    {
      "cell_type": "markdown",
      "source": [
        "5. What are iterators in Python and how do they differ from iterables?\n",
        "\n",
        " Answer:\n",
        "\n",
        "-  Iterable: An object capable of returning its members one at a time (e.g., list, tuple).\n",
        "\n",
        "-  Iterator: An object with a __next__() method and __iter__() method.\n",
        "\n",
        "-  Example:"
      ],
      "metadata": {
        "id": "Mc8DGaVhsLBy"
      }
    },
    {
      "cell_type": "code",
      "source": [
        "lst = [1, 2, 3]\n",
        "it = iter(lst)  # it is an iterator\n",
        "print(next(it))  # 1"
      ],
      "metadata": {
        "colab": {
          "base_uri": "https://localhost:8080/"
        },
        "id": "pfNG8pbLsxYD",
        "outputId": "51679677-d139-480a-f5f4-3f8600463935"
      },
      "execution_count": 5,
      "outputs": [
        {
          "output_type": "stream",
          "name": "stdout",
          "text": [
            "1\n"
          ]
        }
      ]
    },
    {
      "cell_type": "markdown",
      "source": [
        "6. Explain the concept of generators in Python and how they are defined.\n",
        "\n",
        " Answer :\n",
        "\n",
        "-  A generator is a function that returns values one at a time using the yield keyword.\n",
        "\n",
        "-  Example:"
      ],
      "metadata": {
        "id": "fNaAg3T0sQ3a"
      }
    },
    {
      "cell_type": "code",
      "source": [
        "def count_up():\n",
        "    yield 5\n",
        "    yield 4\n",
        "\n",
        "for i in count_up():\n",
        "    print(i)\n"
      ],
      "metadata": {
        "colab": {
          "base_uri": "https://localhost:8080/"
        },
        "id": "HqvXZ1c9tWaW",
        "outputId": "f0ec8b6c-3d03-4fbc-ccd0-090af8740cb8"
      },
      "execution_count": 6,
      "outputs": [
        {
          "output_type": "stream",
          "name": "stdout",
          "text": [
            "5\n",
            "4\n"
          ]
        }
      ]
    },
    {
      "cell_type": "markdown",
      "source": [
        "7. What are the advantages of using generators over regular functions?\n",
        "  \n",
        " Answer:\n",
        "\n",
        "- Saves memory (values generated one at a time)\n",
        "\n",
        "- Good for large data or infinite sequences\n",
        "\n",
        "- Faster performance in some cases\n",
        "-  Example :"
      ],
      "metadata": {
        "id": "W2cNsyvAtiou"
      }
    },
    {
      "cell_type": "code",
      "source": [
        "def count_up_to(n):\n",
        "    i = 1\n",
        "    while i <= n:\n",
        "        yield i\n",
        "        i += 1\n",
        "\n",
        "# Using the generator\n",
        "for num in count_up_to(5):\n",
        "    print(num)"
      ],
      "metadata": {
        "colab": {
          "base_uri": "https://localhost:8080/"
        },
        "id": "GFXIPQexuC57",
        "outputId": "2e40a49b-0961-46f3-c3f0-b53dc64dfd2d"
      },
      "execution_count": 7,
      "outputs": [
        {
          "output_type": "stream",
          "name": "stdout",
          "text": [
            "1\n",
            "2\n",
            "3\n",
            "4\n",
            "5\n"
          ]
        }
      ]
    },
    {
      "cell_type": "markdown",
      "source": [
        "8. What is a lambda function in Python and when is it typically used?\n",
        "\n",
        "Answer:\n",
        "\n",
        "-  A lambda function is a small anonymous function, usually used for short tasks.\n",
        "\n",
        "-  Example"
      ],
      "metadata": {
        "id": "9FKl6UGouJZV"
      }
    },
    {
      "cell_type": "code",
      "source": [
        "add = lambda a, b: a + b\n",
        "print(add(2, 3))  # Output: 5\n"
      ],
      "metadata": {
        "colab": {
          "base_uri": "https://localhost:8080/"
        },
        "id": "nvwk5TskuHKX",
        "outputId": "9d9f8083-b365-4552-fad7-dc7b3dae911b"
      },
      "execution_count": 8,
      "outputs": [
        {
          "output_type": "stream",
          "name": "stdout",
          "text": [
            "5\n"
          ]
        }
      ]
    },
    {
      "cell_type": "markdown",
      "source": [
        "9. Explain the purpose and usage of the map() function in Python.\n",
        "\n",
        " Answer:\n",
        "\n",
        "-  map() applies a function to each item in an iterable like a list.\n",
        "\n",
        "-  Example:"
      ],
      "metadata": {
        "id": "3sdlUQtkuXKO"
      }
    },
    {
      "cell_type": "code",
      "source": [
        "nums = [1, 2, 3]\n",
        "doubled = list(map(lambda x: x * 2, nums))\n",
        "print(doubled)  # Output: [2, 4, 6]"
      ],
      "metadata": {
        "colab": {
          "base_uri": "https://localhost:8080/"
        },
        "id": "GKPfPF6KuxU1",
        "outputId": "90aeabf8-d441-4752-8fb5-3b54a20cf880"
      },
      "execution_count": 9,
      "outputs": [
        {
          "output_type": "stream",
          "name": "stdout",
          "text": [
            "[2, 4, 6]\n"
          ]
        }
      ]
    },
    {
      "cell_type": "markdown",
      "source": [
        "10. What is the difference between map(), reduce(), and filter() functions in Python?\n",
        "\n",
        "Answer:\n",
        "\n",
        "-  map() applies a function to all items.\n",
        "\n",
        "-  filter() keeps items that match a condition.\n",
        "\n",
        "-  reduce() (from functools) reduces a list to a single value.\n",
        "\n",
        "-  Example:"
      ],
      "metadata": {
        "id": "4o9Ha2mEu7bW"
      }
    },
    {
      "cell_type": "code",
      "source": [
        "from functools import reduce\n",
        "nums = [1, 2, 3, 4]\n",
        "print(list(map(lambda x: x*2, nums)))       # [2, 4, 6, 8]\n",
        "print(list(filter(lambda x: x % 2 == 0, nums)))  # [2, 4]\n",
        "print(reduce(lambda x, y: x + y, nums))     # 10"
      ],
      "metadata": {
        "colab": {
          "base_uri": "https://localhost:8080/"
        },
        "id": "By9DYcy6vJpI",
        "outputId": "969e1252-853c-4fcd-eb3e-5e24787bbf1a"
      },
      "execution_count": 10,
      "outputs": [
        {
          "output_type": "stream",
          "name": "stdout",
          "text": [
            "[2, 4, 6, 8]\n",
            "[2, 4]\n",
            "10\n"
          ]
        }
      ]
    },
    {
      "cell_type": "markdown",
      "source": [
        "11. Using pen & Paper write the internal mechanism for sum operation using reduce function on this given list:[47,11,42,13];\n",
        "![function.jpg](data:image/jpeg;base64,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)"
      ],
      "metadata": {
        "id": "lcP69uiuvP9D"
      }
    },
    {
      "cell_type": "markdown",
      "source": [
        "# **Practical Questions**"
      ],
      "metadata": {
        "id": "S7k_8PLbyD2y"
      }
    },
    {
      "cell_type": "markdown",
      "source": [
        "1. Write a Python function that takes a list of numbers as input and returns the sum of all even numbers in the list."
      ],
      "metadata": {
        "id": "LXGWFCUHyMoC"
      }
    },
    {
      "cell_type": "code",
      "source": [
        "def sum_even(lst):\n",
        "    return sum(num for num in lst if num % 2 == 0)\n",
        "\n",
        "print(sum_even([1, 2, 3, 4, 5]))"
      ],
      "metadata": {
        "colab": {
          "base_uri": "https://localhost:8080/"
        },
        "id": "5wM9uVFwyx8q",
        "outputId": "36de5ff3-29e8-4be1-f80e-bcd70c44dcca"
      },
      "execution_count": 11,
      "outputs": [
        {
          "output_type": "stream",
          "name": "stdout",
          "text": [
            "6\n"
          ]
        }
      ]
    },
    {
      "cell_type": "markdown",
      "source": [
        "2. Create a Python function that accepts a string and returns the reverse of that string."
      ],
      "metadata": {
        "id": "IEeV8KCHy7HZ"
      }
    },
    {
      "cell_type": "code",
      "source": [
        "def reverse_string(s):\n",
        "    return s[::-1]\n",
        "\n",
        "print(reverse_string(\"arik\"))\n",
        "\n",
        ""
      ],
      "metadata": {
        "colab": {
          "base_uri": "https://localhost:8080/"
        },
        "id": "bhfcHR4By_kP",
        "outputId": "3545d589-d060-4454-cdc2-c0fbace3ee7a"
      },
      "execution_count": 12,
      "outputs": [
        {
          "output_type": "stream",
          "name": "stdout",
          "text": [
            "kira\n"
          ]
        }
      ]
    },
    {
      "cell_type": "markdown",
      "source": [
        "3. Implement a Python function that takes a list of integers and returns a new list containing the squares of each number.\n"
      ],
      "metadata": {
        "id": "D4HB4SgdzIKa"
      }
    },
    {
      "cell_type": "code",
      "source": [
        "def square_list(lst):\n",
        "    return [x**2 for x in lst]\n",
        "\n",
        "print(square_list([1, 2, 3]))\n",
        "\n"
      ],
      "metadata": {
        "colab": {
          "base_uri": "https://localhost:8080/"
        },
        "id": "tI_dO3Z6zLBF",
        "outputId": "628d8351-0f7c-4e74-a3c9-a5fb25ce9d5e"
      },
      "execution_count": 13,
      "outputs": [
        {
          "output_type": "stream",
          "name": "stdout",
          "text": [
            "[1, 4, 9]\n"
          ]
        }
      ]
    },
    {
      "cell_type": "markdown",
      "source": [
        "4. Write a Python function that checks if a given number is prime or not from 1 to 200."
      ],
      "metadata": {
        "id": "Swt1yRnKzS9C"
      }
    },
    {
      "cell_type": "code",
      "source": [
        "def is_prime(n):\n",
        "    if n <= 1:\n",
        "        return False\n",
        "    for i in range(2, int(n**0.5)+1):\n",
        "        if n % i == 0:\n",
        "            return False\n",
        "    return True\n",
        "\n",
        "for i in range(1, 201):\n",
        "    if is_prime(i):\n",
        "        print(i, end=\" \")"
      ],
      "metadata": {
        "colab": {
          "base_uri": "https://localhost:8080/"
        },
        "id": "W6O2aPIfzX5Z",
        "outputId": "a876290a-340e-4e4a-c2ec-cabc6b3473f4"
      },
      "execution_count": 14,
      "outputs": [
        {
          "output_type": "stream",
          "name": "stdout",
          "text": [
            "2 3 5 7 11 13 17 19 23 29 31 37 41 43 47 53 59 61 67 71 73 79 83 89 97 101 103 107 109 113 127 131 137 139 149 151 157 163 167 173 179 181 191 193 197 199 "
          ]
        }
      ]
    },
    {
      "cell_type": "markdown",
      "source": [
        "5. Create an iterator class in Python that generates the Fibonacci sequence up to a specified number of terms."
      ],
      "metadata": {
        "id": "zoojJftkzdPp"
      }
    },
    {
      "cell_type": "code",
      "source": [
        "class Fibonacci:\n",
        "    def __init__(self, n):\n",
        "        self.n = n\n",
        "        self.a, self.b = 0, 1\n",
        "        self.count = 0\n",
        "\n",
        "    def __iter__(self):\n",
        "        return self\n",
        "\n",
        "    def __next__(self):\n",
        "        if self.count >= self.n:\n",
        "            raise StopIteration\n",
        "        val = self.a\n",
        "        self.a, self.b = self.b, self.a + self.b\n",
        "        self.count += 1\n",
        "        return val\n",
        "\n",
        "for num in Fibonacci(10):\n",
        "    print(num, end=\" \")"
      ],
      "metadata": {
        "colab": {
          "base_uri": "https://localhost:8080/"
        },
        "id": "3Ti9fgpYzgAR",
        "outputId": "ed3fcaa1-e03f-4425-a55b-d3aad6534f03"
      },
      "execution_count": 16,
      "outputs": [
        {
          "output_type": "stream",
          "name": "stdout",
          "text": [
            "0 1 1 2 3 5 8 13 21 34 "
          ]
        }
      ]
    },
    {
      "cell_type": "markdown",
      "source": [
        "6. Write a generator function in Python that yields the powers of 2 up to a given exponent."
      ],
      "metadata": {
        "id": "SWJUawkkzrai"
      }
    },
    {
      "cell_type": "code",
      "source": [
        "def powers_of_two(n):\n",
        "    for i in range(n + 1):\n",
        "        yield 2 ** i\n",
        "\n",
        "for val in powers_of_two(5):\n",
        "    print(val)\n",
        ""
      ],
      "metadata": {
        "colab": {
          "base_uri": "https://localhost:8080/"
        },
        "id": "qep55oqXzuwA",
        "outputId": "5cae30b8-d946-4497-cead-9292c441193e"
      },
      "execution_count": 17,
      "outputs": [
        {
          "output_type": "stream",
          "name": "stdout",
          "text": [
            "1\n",
            "2\n",
            "4\n",
            "8\n",
            "16\n",
            "32\n"
          ]
        }
      ]
    },
    {
      "cell_type": "markdown",
      "source": [
        "7. Implement a generator function that reads a file line by line and yields each line as a string."
      ],
      "metadata": {
        "id": "OhsxS5z4zyGr"
      }
    },
    {
      "cell_type": "code",
      "source": [
        "# Create a sample file to test\n",
        "with open(\"example.txt\", \"w\") as f:\n",
        "    f.write(\"Hello PW\\n\")\n",
        "    f.write(\"good morning\\n\")\n",
        "    f.write(\"This is a test file\\n\")\n",
        ""
      ],
      "metadata": {
        "id": "MiiqRWduz00j"
      },
      "execution_count": 29,
      "outputs": []
    },
    {
      "cell_type": "code",
      "source": [
        "def read_file_lines(filename):\n",
        "    with open(filename, 'r') as file:\n",
        "        for line in file:\n",
        "            yield line.strip()"
      ],
      "metadata": {
        "id": "9OT8FBSkz-Nb"
      },
      "execution_count": 31,
      "outputs": []
    },
    {
      "cell_type": "code",
      "source": [
        "for line in read_file_lines(\"example.txt\"):\n",
        "    print(line)"
      ],
      "metadata": {
        "colab": {
          "base_uri": "https://localhost:8080/"
        },
        "id": "qrXWPiW80AoH",
        "outputId": "ed42658f-001a-4280-8e6a-83ec04143e4b"
      },
      "execution_count": 32,
      "outputs": [
        {
          "output_type": "stream",
          "name": "stdout",
          "text": [
            "Hello PW\n",
            "good morning\n",
            "This is a test file\n"
          ]
        }
      ]
    },
    {
      "cell_type": "markdown",
      "source": [
        "8. Use a lambda function in Python to sort a list of tuples based on the second element of each tuple.\n"
      ],
      "metadata": {
        "id": "KsrOUdeS0svU"
      }
    },
    {
      "cell_type": "code",
      "source": [
        "data = [(1, 3), (4, 1), (2, 2)]\n",
        "sorted_data = sorted(data, key=lambda x: x[1])\n",
        "print(sorted_data)"
      ],
      "metadata": {
        "colab": {
          "base_uri": "https://localhost:8080/"
        },
        "id": "1FBJpfg_0uTO",
        "outputId": "1435b62b-dea6-42a2-85a2-6c1b5abff9f6"
      },
      "execution_count": 33,
      "outputs": [
        {
          "output_type": "stream",
          "name": "stdout",
          "text": [
            "[(4, 1), (2, 2), (1, 3)]\n"
          ]
        }
      ]
    },
    {
      "cell_type": "markdown",
      "source": [
        "9. Write a Python program that uses map() to convert a list of temperatures from Celsius to Fahrenheit."
      ],
      "metadata": {
        "id": "x9wg4k4t0ygQ"
      }
    },
    {
      "cell_type": "code",
      "source": [
        "celsius = [0, 10, 20, 30]\n",
        "fahrenheit = list(map(lambda c: (c * 9/5) + 32, celsius))\n",
        "print(fahrenheit)\n",
        ""
      ],
      "metadata": {
        "colab": {
          "base_uri": "https://localhost:8080/"
        },
        "id": "YKmuG8q_02QV",
        "outputId": "d27fe20a-9632-4976-fa2c-1ebf0df4c7c1"
      },
      "execution_count": 34,
      "outputs": [
        {
          "output_type": "stream",
          "name": "stdout",
          "text": [
            "[32.0, 50.0, 68.0, 86.0]\n"
          ]
        }
      ]
    },
    {
      "cell_type": "markdown",
      "source": [
        "10. Create a Python program that uses filter() to remove all the vowels from a given string."
      ],
      "metadata": {
        "id": "6JvR9mt508PB"
      }
    },
    {
      "cell_type": "code",
      "source": [
        "def remove_vowels(text):\n",
        "    vowels = 'aeiouAEIOU'\n",
        "    return ''.join(filter(lambda x: x not in vowels, text))\n",
        "\n",
        "print(remove_vowels(\"Hello World\"))\n",
        ""
      ],
      "metadata": {
        "colab": {
          "base_uri": "https://localhost:8080/"
        },
        "id": "7NI395Is1A--",
        "outputId": "ca1ec8f2-fe43-4959-e437-c79501c32c31"
      },
      "execution_count": 35,
      "outputs": [
        {
          "output_type": "stream",
          "name": "stdout",
          "text": [
            "Hll Wrld\n"
          ]
        }
      ]
    },
    {
      "cell_type": "markdown",
      "source": [
        "11) Imagine an accounting routine used in a book shop. It works on a list with sublists, which look like this:\n",
        "Screenshot (25).png\n",
        "\n",
        "Write a Python program, which returns a list with 2-tuples. Each tuple consists of the order number and the product of the price per item and the quantity. The product should be increased by 10,- € if the value of the order is smaller than 100,00 €.\n",
        "Write a Python program using lambda and map."
      ],
      "metadata": {
        "id": "7Ybhia9a1JVi"
      }
    },
    {
      "cell_type": "code",
      "source": [
        "orders = [\n",
        "    [\"34587\", \"Learning Python\", 4, 40.95],\n",
        "    [\"98762\", \"Programming Python\", 5, 56.80],\n",
        "    [\"77226\", \"Head First Python\", 3, 32.95],\n",
        "    [\"88112\", \"Einführung in Python3\", 3, 24.99]\n",
        "]\n",
        "\n",
        "result = list(map(lambda order: (\n",
        "    order[0],\n",
        "    order[2] * order[3] + (10 if order[2] * order[3] < 100 else 0)\n",
        "), orders))\n",
        "\n",
        "print(result)"
      ],
      "metadata": {
        "colab": {
          "base_uri": "https://localhost:8080/"
        },
        "id": "l1ImU5NY1OeM",
        "outputId": "8c99a65f-0498-4817-9556-c3801f169db9"
      },
      "execution_count": 36,
      "outputs": [
        {
          "output_type": "stream",
          "name": "stdout",
          "text": [
            "[('34587', 163.8), ('98762', 284.0), ('77226', 108.85000000000001), ('88112', 84.97)]\n"
          ]
        }
      ]
    }
  ]
}