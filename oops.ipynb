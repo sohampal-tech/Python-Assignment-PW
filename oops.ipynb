{
  "nbformat": 4,
  "nbformat_minor": 0,
  "metadata": {
    "colab": {
      "provenance": []
    },
    "kernelspec": {
      "name": "python3",
      "display_name": "Python 3"
    },
    "language_info": {
      "name": "python"
    }
  },
  "cells": [
    {
      "cell_type": "markdown",
      "source": [
        "# THEORY QUESTION"
      ],
      "metadata": {
        "id": "M1Gwj-kQgRJo"
      }
    },
    {
      "cell_type": "markdown",
      "source": [
        "# 1. What is Object-Oriented Programming (OOP)?\n",
        "Answer:\n",
        "\n",
        "Object-Oriented Programming (OOP) is a programming paradigm that uses \"objects\" to model real-world entities. These objects encapsulate data and the methods that operate on that data. The four main principles of OOP are encapsulation, abstraction, inheritance, and polymorphism."
      ],
      "metadata": {
        "id": "mPpfjNSqgUMM"
      }
    },
    {
      "cell_type": "markdown",
      "source": [
        "# 2. What is a class in OOP?\n",
        "Answer:\n",
        "\n",
        "A class in OOP is a blueprint for creating objects. It defines attributes (data) and methods (functions) that the created objects (instances) will have. For example:"
      ],
      "metadata": {
        "id": "v5a9b9x_gjXY"
      }
    },
    {
      "cell_type": "code",
      "execution_count": 2,
      "metadata": {
        "id": "Ul-f6-CAgHxV"
      },
      "outputs": [],
      "source": [
        "class Dog:\n",
        "    def __init__(self, name):\n",
        "        self.name = name\n",
        "    def bark(self):\n",
        "        print(\"Woof!\")\n",
        ""
      ]
    },
    {
      "cell_type": "markdown",
      "source": [
        "# 3. What is an object in OOP?\n",
        "Answer:\n",
        "\n",
        "An object is an instance of a class. It represents a specific implementation with actual values for the attributes defined in the class."
      ],
      "metadata": {
        "id": "lZLZe2v0g2iZ"
      }
    },
    {
      "cell_type": "markdown",
      "source": [
        "# 4. What is the difference between abstraction and encapsulation?\n",
        "Answer:\n",
        "\n",
        "- Abstraction hides complex implementation details and shows only the essential features.\n",
        "\n",
        "- Encapsulation binds data and methods into a single unit and restricts access to some of the object’s components."
      ],
      "metadata": {
        "id": "k9i-WKA9g8zE"
      }
    },
    {
      "cell_type": "markdown",
      "source": [
        "# 5. What are dunder methods in Python?\n",
        "Answer:\n",
        "\n",
        "Dunder (double underscore) methods are special methods in Python like __init__, __str__, and __len__, used to define behaviors for objects like construction, printing, and length."
      ],
      "metadata": {
        "id": "L0os8G21hKP9"
      }
    },
    {
      "cell_type": "markdown",
      "source": [
        "# 6. Explain the concept of inheritance in OOP.\n",
        "Answer:\n",
        "\n",
        "Inheritance allows a class to inherit attributes and methods from another class. This helps reuse code and establish relationships between classes."
      ],
      "metadata": {
        "id": "kyRw9aglhNGD"
      }
    },
    {
      "cell_type": "code",
      "source": [
        "class Animal:\n",
        "    def speak(self):\n",
        "        print(\"Animal speaks\")\n",
        "\n",
        "class Dog(Animal):\n",
        "    def speak(self):\n",
        "        print(\"Bark!\")"
      ],
      "metadata": {
        "id": "mwvP_32fhQ6m"
      },
      "execution_count": 3,
      "outputs": []
    },
    {
      "cell_type": "markdown",
      "source": [
        "# 7. What is polymorphism in OOP?\n",
        "Answer:\n",
        "\n",
        "Polymorphism allows objects of different classes to be treated as instances of the same class through a common interface."
      ],
      "metadata": {
        "id": "OeGWryxphVG8"
      }
    },
    {
      "cell_type": "code",
      "source": [
        "class Bird:\n",
        "    def fly(self):\n",
        "        print(\"Bird flies\")\n",
        "\n",
        "class Sparrow(Bird):\n",
        "    def fly(self):\n",
        "        print(\"Sparrow flies\")\n",
        ""
      ],
      "metadata": {
        "id": "WqpLWsdahb3w"
      },
      "execution_count": null,
      "outputs": []
    },
    {
      "cell_type": "markdown",
      "source": [
        "# 8. How is encapsulation achieved in Python?\n",
        "Answer:\n",
        "\n",
        "By using private variables (prefixing with _ or __) and providing getter and setter methods to control access."
      ],
      "metadata": {
        "id": "3ZiTT4V0hiCR"
      }
    },
    {
      "cell_type": "code",
      "source": [
        "class Bank:\n",
        "    def __init__(self):\n",
        "        self.__balance = 0\n",
        "    def deposit(self, amount):\n",
        "        self.__balance += amount"
      ],
      "metadata": {
        "id": "dyrEB-lehkRc"
      },
      "execution_count": null,
      "outputs": []
    },
    {
      "cell_type": "markdown",
      "source": [
        "# 9. What is a constructor in Python?\n",
        "Answer:\n",
        "\n",
        "The __init__ method in a class is a constructor that initializes object attributes when an object is created."
      ],
      "metadata": {
        "id": "oYXfh2PChm34"
      }
    },
    {
      "cell_type": "markdown",
      "source": [
        "# 10. What are class and static methods in Python?\n",
        "Answer:\n",
        "\n",
        "@classmethod: Takes cls as the first argument and can modify class state.\n",
        "\n",
        "@staticmethod: Does not take self or cls, behaves like a regular function within a class."
      ],
      "metadata": {
        "id": "0_LTgrYXhuFy"
      }
    },
    {
      "cell_type": "markdown",
      "source": [
        "# 11. What is method overloading in Python?\n",
        "Answer:\n",
        "\n",
        "Python does not support traditional method overloading. Instead, we use default arguments or *args/**kwargs."
      ],
      "metadata": {
        "id": "UbdTSfOAhyfN"
      }
    },
    {
      "cell_type": "markdown",
      "source": [
        "# 12. What is method overriding in OOP?\n",
        "Answer:\n",
        "\n",
        "Method overriding occurs when a subclass provides a specific implementation of a method already defined in its parent class."
      ],
      "metadata": {
        "id": "Lt2T-Ae3h3Vt"
      }
    },
    {
      "cell_type": "markdown",
      "source": [
        "# 13. What is a property decorator in Python?\n",
        "Answer:\n",
        "\n",
        "@property is used to define a method as a property, allowing method access like an attribute.\n",
        "\n",
        "# 14. Why is polymorphism important in OOP?\n",
        "Answer:\n",
        "\n",
        "Polymorphism increases flexibility and reusability of code, allowing different classes to be treated uniformly.\n",
        "\n",
        "# 15. What is an abstract class in Python?\n",
        "Answer:\n",
        "\n",
        "An abstract class cannot be instantiated and may have abstract methods. It is defined using the abc module.\n",
        "\n",
        "# 16. What are the advantages of OOP?\n",
        "Answer:\n",
        "\n",
        "- Reusability through inheritance\n",
        "\n",
        "- Modularity via encapsulation\n",
        "\n",
        "- Flexibility with polymorphism\n",
        "\n",
        "- Maintainability"
      ],
      "metadata": {
        "id": "y1ctmZpgh5en"
      }
    },
    {
      "cell_type": "markdown",
      "source": [
        "# 17. What is the difference between a class variable and an instance variable?\n",
        "Answer:\n",
        "\n",
        "**1. Class Variable**\n",
        "\n",
        "- Shared across all instances of the class.\n",
        "\n",
        "- Defined inside the class but outside any methods.\n",
        "\n",
        "- Changing a class variable affects all instances (unless it's shadowed by an instance variable).\n",
        "\n",
        "Example:"
      ],
      "metadata": {
        "id": "3p1X8WEViNj7"
      }
    },
    {
      "cell_type": "code",
      "source": [
        "class Dog:\n",
        "    species = \"Canine\"  # class variable\n",
        "\n",
        "    def __init__(self, name):\n",
        "        self.name = name  # instance variable"
      ],
      "metadata": {
        "id": "aNjR4FQVhrfK"
      },
      "execution_count": 4,
      "outputs": []
    },
    {
      "cell_type": "markdown",
      "source": [
        "**2. Instance Variable**\n",
        "\n",
        "- Unique to each instance of the class.\n",
        "\n",
        "- Usually defined using self inside the __init__ method (or other methods).\n",
        "\n",
        "- Changing an instance variable only affects that specific instance.\n",
        "\n",
        "Example:"
      ],
      "metadata": {
        "id": "WaEKehE4ilFK"
      }
    },
    {
      "cell_type": "code",
      "source": [
        "dog1 = Dog(\"Fido\")\n",
        "dog2 = Dog(\"Buddy\")\n",
        "\n",
        "dog1.name = \"Max\"  # only changes dog1's name\n",
        "Dog.species = \"Doggo\"  # changes species for all instances"
      ],
      "metadata": {
        "id": "bBLjk0PRi1n2"
      },
      "execution_count": null,
      "outputs": []
    },
    {
      "cell_type": "markdown",
      "source": [
        "# 18. What is multiple inheritance in Python?\n",
        "Answer:\n",
        "\n",
        "Multiple inheritance in Python means a class can inherit attributes and methods from more than one parent class."
      ],
      "metadata": {
        "id": "WFIJIjgHjCYA"
      }
    },
    {
      "cell_type": "code",
      "source": [
        "class A:\n",
        "    def speak(self):\n",
        "        print(\"A speaks\")\n",
        "\n",
        "class B:\n",
        "    def talk(self):\n",
        "        print(\"B talks\")\n",
        "\n",
        "class C(A, B):  # Multiple inheritance\n",
        "    pass\n",
        "\n",
        "obj = C()\n",
        "obj.speak()  # From class A\n",
        "obj.talk()   # From class B"
      ],
      "metadata": {
        "colab": {
          "base_uri": "https://localhost:8080/"
        },
        "id": "qyoSkFW_jEZg",
        "outputId": "9133bd02-3548-452e-d4cd-d01595dbd643"
      },
      "execution_count": 5,
      "outputs": [
        {
          "output_type": "stream",
          "name": "stdout",
          "text": [
            "A speaks\n",
            "B talks\n"
          ]
        }
      ]
    },
    {
      "cell_type": "markdown",
      "source": [
        "# 19. Explain the purpose of ″_ str _ ′ and ′_ repr _′ ′ methods in Python.\n",
        "Answer:\n",
        "\n",
        "The __str__ and __repr__ methods in Python are special methods used to define how an object is represented as a string.\n",
        "\n",
        "🔹 __str__: User-Friendly String\n",
        "\n",
        "- Called by str(object) and the print() function.\n",
        "\n",
        "- Should return a readable, user-friendly string.\n",
        "\n",
        "- Purpose: Representation for end users."
      ],
      "metadata": {
        "id": "LZ5Yh_v5jLkH"
      }
    },
    {
      "cell_type": "code",
      "source": [
        "class Person:\n",
        "    def __init__(self, name):\n",
        "        self.name = name\n",
        "\n",
        "    def __str__(self):\n",
        "        return f\"Person named {self.name}\"\n",
        ""
      ],
      "metadata": {
        "id": "IZgRpTCcjSgX"
      },
      "execution_count": null,
      "outputs": []
    },
    {
      "cell_type": "markdown",
      "source": [
        "🔹 __repr__: Developer-Friendly String\n",
        "\n",
        "Called by repr(object) or when you type the object name in an interactive shell.\n",
        "\n",
        "Should return a precise, unambiguous string—ideally valid Python code.\n",
        "\n",
        "Purpose: Debugging and developer representation."
      ],
      "metadata": {
        "id": "zRhRN26MjcmU"
      }
    },
    {
      "cell_type": "markdown",
      "source": [
        "  def __repr__(self):\n",
        "        return f\"Person('{self.name}')\""
      ],
      "metadata": {
        "id": "JkkgA5MBjg-U"
      }
    },
    {
      "cell_type": "markdown",
      "source": [
        "# Example in Action:"
      ],
      "metadata": {
        "id": "Ubdvgs4LjmNo"
      }
    },
    {
      "cell_type": "code",
      "source": [
        "p = Person(\"Alice\")\n",
        "\n",
        "print(p)         # Calls __str__: Person named Alice\n",
        "print(repr(p))   # Calls __repr__: Person('Alice')"
      ],
      "metadata": {
        "id": "A4kkrKyzjo6O"
      },
      "execution_count": null,
      "outputs": []
    },
    {
      "cell_type": "markdown",
      "source": [
        "Person named Alice\n",
        "<__main__.Person object at 0x78811923b590>"
      ],
      "metadata": {
        "id": "152e0vQPjsX_"
      }
    },
    {
      "cell_type": "markdown",
      "source": [
        "# 20. What is the significance of the ‘super()’ function in Python.\n",
        "Answer:\n",
        "\n",
        "The super() function in Python is used to call methods from a parent or sibling class. It's especially important in inheritance, including multiple inheritance, to ensure proper method resolution and to avoid redundancy.\n",
        "\n",
        "🔹 Key Uses of super():\n",
        "\n",
        "- Access parent class methods without hardcoding the parent class name.\n",
        "\n",
        "- Maintain the method resolution order (MRO) in complex inheritance structures.\n",
        "\n",
        "- Avoid duplicate code and improve maintainability.\n",
        "\n",
        "Example:"
      ],
      "metadata": {
        "id": "RnILWQuqjvkA"
      }
    },
    {
      "cell_type": "code",
      "source": [
        "class Parent:\n",
        "    def greet(self):\n",
        "        print(\"Hello from Parent\")\n",
        "\n",
        "class Child(Parent):\n",
        "    def greet(self):\n",
        "        super().greet()  # Calls Parent.greet()\n",
        "        print(\"Hello from Child\")\n",
        "\n",
        "c = Child()\n",
        "c.greet()\n",
        ""
      ],
      "metadata": {
        "colab": {
          "base_uri": "https://localhost:8080/"
        },
        "id": "1tR-f9r5j3mU",
        "outputId": "d8cc7be5-66e1-48a1-f447-bc6c79aa5432"
      },
      "execution_count": 6,
      "outputs": [
        {
          "output_type": "stream",
          "name": "stdout",
          "text": [
            "Hello from Parent\n",
            "Hello from Child\n"
          ]
        }
      ]
    },
    {
      "cell_type": "markdown",
      "source": [
        "# 21. What is the significance of the _ del _ method in Python?\n",
        "Answer:\n",
        "\n",
        "The __del__ method in Python is a destructor—it is called when an object is about to be destroyed, typically when there are no more references to it.\n",
        "\n",
        "🔹 Purpose of __del__:\n",
        "\n",
        "- Used to perform cleanup actions like:\n",
        "\n",
        "- Closing files\n",
        "\n",
        "- Releasing network connections\n",
        "\n",
        "- Deleting temporary resources\n",
        "\n",
        "- It gives you a chance to define custom teardown behavior for your objects.\n",
        "\n",
        "🔹 Example:"
      ],
      "metadata": {
        "id": "UCw_mSGAj7Jf"
      }
    },
    {
      "cell_type": "code",
      "source": [
        "class FileHandler:\n",
        "    def __init__(self, filename):\n",
        "        self.file = open(filename, 'w')\n",
        "\n",
        "    def __del__(self):\n",
        "        print(\"Closing file\")\n",
        "        self.file.close()"
      ],
      "metadata": {
        "id": "Vok3C0dEkI-G"
      },
      "execution_count": null,
      "outputs": []
    },
    {
      "cell_type": "markdown",
      "source": [
        "When the object is deleted (or the program ends), __del__ is automatically called, closing the file."
      ],
      "metadata": {
        "id": "PDFmQANGkKME"
      }
    },
    {
      "cell_type": "markdown",
      "source": [
        "# 22. What is the difference between @staticmethod and @classmethod in Python?\n",
        "Answer:\n",
        "\n",
        "The difference between @staticmethod and @classmethod in Python lies in what they receive as the first argument and how they interact with the class.\n",
        "\n",
        "🔹 @staticmethod\n",
        "\n",
        "- Does not take self or cls as the first parameter.\n",
        "\n",
        "- Behaves like a regular function, just lives inside the class for organization.\n",
        "\n",
        "- Can't access or modify class or instance state."
      ],
      "metadata": {
        "id": "QWj5pUIkkMyt"
      }
    },
    {
      "cell_type": "code",
      "source": [
        "class MyClass:\n",
        "    @staticmethod\n",
        "    def greet():\n",
        "        print(\"Hello!\")\n"
      ],
      "metadata": {
        "id": "y5io01EkkXT5"
      },
      "execution_count": null,
      "outputs": []
    },
    {
      "cell_type": "markdown",
      "source": [
        "🔹 @classmethod\n",
        "\n",
        "- Takes cls (the class itself) as the first argument.\n",
        "\n",
        "- Can access and modify class-level state.\n",
        "\n",
        "- Often used for alternative constructors."
      ],
      "metadata": {
        "id": "MxnqtDTokZnh"
      }
    },
    {
      "cell_type": "code",
      "source": [
        "class MyClass:\n",
        "    count = 0\n",
        "\n",
        "    @classmethod\n",
        "    def increment(cls):\n",
        "        cls.count += 1"
      ],
      "metadata": {
        "id": "tb2RJHGkkd1i"
      },
      "execution_count": null,
      "outputs": []
    },
    {
      "cell_type": "markdown",
      "source": [
        "# 23. How does polymorphism work in Python with inheritance?\n",
        "Answer:\n",
        "\n",
        "Objects of different classes can be treated as objects of a common base class, especially when they share the same method name, allowing the correct method to be called dynamically at runtime.\n",
        "\n",
        "🔹 How it works:\n",
        "\n",
        "- Python uses dynamic (runtime) method resolution.\n",
        "\n",
        "- Even if a variable is typed as the base class, Python checks the actual object type to decide which method to run.\n",
        "\n",
        "Example:"
      ],
      "metadata": {
        "id": "UFoBCsRMkgEM"
      }
    },
    {
      "cell_type": "code",
      "source": [
        "class Animal:\n",
        "    def speak(self):\n",
        "        print(\"Animal speaks\")\n",
        "\n",
        "class Dog(Animal):\n",
        "    def speak(self):\n",
        "        print(\"Dog barks\")\n",
        "\n",
        "class Cat(Animal):\n",
        "    def speak(self):\n",
        "        print(\"Cat meows\")\n",
        "\n",
        "# Polymorphic behavior\n",
        "def make_sound(animal):\n",
        "    animal.speak()\n",
        "\n",
        "make_sound(Dog())\n",
        "make_sound(Cat())"
      ],
      "metadata": {
        "colab": {
          "base_uri": "https://localhost:8080/"
        },
        "id": "ykbvHVy9k0TQ",
        "outputId": "33647e5a-88c8-40bd-f70b-8be8ef97492c"
      },
      "execution_count": 7,
      "outputs": [
        {
          "output_type": "stream",
          "name": "stdout",
          "text": [
            "Dog barks\n",
            "Cat meows\n"
          ]
        }
      ]
    },
    {
      "cell_type": "markdown",
      "source": [
        "# 24. What is method chaining in Python OOP?\n",
        "Answer:\n",
        "\n",
        "Method chaining is a technique where multiple method calls are linked together in a single statement, by having each method return self.\n",
        "\n",
        "🔹 How it Works:\n",
        "\n",
        "- Each method performs some action and then returns the same object (self) so that the next method can be called on it.\n",
        "\n",
        "Example:"
      ],
      "metadata": {
        "id": "r-6Ld6Ptk10B"
      }
    },
    {
      "cell_type": "code",
      "source": [
        "class TextBuilder:\n",
        "    def __init__(self):\n",
        "        self.text = \"\"\n",
        "\n",
        "    def add_hello(self):\n",
        "        self.text += \"Hello \"\n",
        "        return self\n",
        "\n",
        "    def add_world(self):\n",
        "        self.text += \"World!\"\n",
        "        return self\n",
        "\n",
        "    def show(self):\n",
        "        print(self.text)\n",
        "        return self\n",
        "\n",
        "# Method chaining in action\n",
        "TextBuilder().add_hello().add_world().show()"
      ],
      "metadata": {
        "colab": {
          "base_uri": "https://localhost:8080/"
        },
        "id": "WtblNkuMk59X",
        "outputId": "32be28c4-2420-46f9-9198-6fd011e5b084"
      },
      "execution_count": 8,
      "outputs": [
        {
          "output_type": "stream",
          "name": "stdout",
          "text": [
            "Hello World!\n"
          ]
        },
        {
          "output_type": "execute_result",
          "data": {
            "text/plain": [
              "<__main__.TextBuilder at 0x7f4df022e390>"
            ]
          },
          "metadata": {},
          "execution_count": 8
        }
      ]
    },
    {
      "cell_type": "markdown",
      "source": [
        "# 25. What is the purpose of the __ call __ method in Python?\n",
        "Answer:\n",
        "\n",
        "🔹 __call__ method in Python\n",
        "\n",
        "The __call__ method lets an object behave like a function—meaning you can \"call\" an instance as if it were a function.\n",
        "\n",
        "Purpose:\n",
        "\n",
        "To allow instances of a class to be invoked like functions by defining custom behavior when the object is called using parentheses ().\n",
        "\n",
        "Example:"
      ],
      "metadata": {
        "id": "0F2rNV2AlBLj"
      }
    },
    {
      "cell_type": "code",
      "source": [
        "class Greeter:\n",
        "    def __init__(self, name):\n",
        "        self.name = name\n",
        "\n",
        "    def __call__(self):\n",
        "        print(f\"Hello, {self.name}!\")\n",
        "\n",
        "g = Greeter(\"Alice\")\n",
        "g()"
      ],
      "metadata": {
        "colab": {
          "base_uri": "https://localhost:8080/"
        },
        "id": "esjkiEEDlE03",
        "outputId": "9061a9ad-2c88-4b1b-cc8f-b53d1e78fda5"
      },
      "execution_count": 9,
      "outputs": [
        {
          "output_type": "stream",
          "name": "stdout",
          "text": [
            "Hello, Alice!\n"
          ]
        }
      ]
    },
    {
      "cell_type": "markdown",
      "source": [
        "# **PRACTICAL QUESTIONS**"
      ],
      "metadata": {
        "id": "eTbL01rWlNvg"
      }
    },
    {
      "cell_type": "markdown",
      "source": [
        "# 1. Create a parent class Animal with a method speak() that prints a generic message. Create a child class Dog that overrides the speak() method to print \"Bark!\"."
      ],
      "metadata": {
        "id": "eSYIm_SqlTAW"
      }
    },
    {
      "cell_type": "code",
      "source": [
        "class Animal:\n",
        "    def speak(self):\n",
        "        print(\"Animal speaks...\")\n",
        "\n",
        "class Dog(Animal):\n",
        "    def speak(self):\n",
        "        print(\"Bark!\")\n",
        "\n",
        "d = Dog()\n",
        "d.speak()"
      ],
      "metadata": {
        "colab": {
          "base_uri": "https://localhost:8080/"
        },
        "id": "vOvJRQfJlhIT",
        "outputId": "62a44301-7bf9-4f0a-aa3f-903645bbaf06"
      },
      "execution_count": 10,
      "outputs": [
        {
          "output_type": "stream",
          "name": "stdout",
          "text": [
            "Bark!\n"
          ]
        }
      ]
    },
    {
      "cell_type": "markdown",
      "source": [
        "# 2. Write a program to create an abstract class Shape with a method area(). Derive classes Circle and Rectangle from it and implement the area() method in both."
      ],
      "metadata": {
        "id": "Tjd3LVCXltOg"
      }
    },
    {
      "cell_type": "code",
      "source": [
        "from abc import ABC, abstractmethod\n",
        "\n",
        "class Shape(ABC):\n",
        "    @abstractmethod\n",
        "    def area(self):\n",
        "        pass\n",
        "\n",
        "class Circle(Shape):\n",
        "    def __init__(self, radius):\n",
        "        self.radius = radius\n",
        "\n",
        "    def area(self):\n",
        "        return 3.14 * self.radius * self.radius\n",
        "\n",
        "class Rectangle(Shape):\n",
        "    def __init__(self, width, height):\n",
        "        self.width = width\n",
        "        self.height = height\n",
        "\n",
        "    def area(self):\n",
        "        return self.width * self.height\n",
        "\n",
        "c = Circle(5)\n",
        "r = Rectangle(4, 6)\n",
        "print(c.area())\n",
        "print(r.area())"
      ],
      "metadata": {
        "colab": {
          "base_uri": "https://localhost:8080/"
        },
        "id": "RIqKASpVlxnQ",
        "outputId": "39286545-b997-4c62-efb4-6f8e612f11df"
      },
      "execution_count": 11,
      "outputs": [
        {
          "output_type": "stream",
          "name": "stdout",
          "text": [
            "78.5\n",
            "24\n"
          ]
        }
      ]
    },
    {
      "cell_type": "markdown",
      "source": [
        "# 3. Implement a multi-level inheritance scenario where a class Vehicle has an attribute type. Derive a class Car and further derive a class ElectricCar that adds a battery attribute."
      ],
      "metadata": {
        "id": "CqcrXhqil4d3"
      }
    },
    {
      "cell_type": "code",
      "source": [
        "class Vehicle:\n",
        "    def __init__(self, type):\n",
        "        self.type = type\n",
        "\n",
        "class Car(Vehicle):\n",
        "    def __init__(self, type, brand):\n",
        "        super().__init__(type)\n",
        "        self.brand = brand\n",
        "\n",
        "class ElectricCar(Car):\n",
        "    def __init__(self, type, brand, battery):\n",
        "        super().__init__(type, brand)\n",
        "        self.battery = battery\n",
        "\n",
        "e_car = ElectricCar(\"EV\", \"Tesla\", \"100 kWh\")\n",
        "print(e_car.type, e_car.brand, e_car.battery)"
      ],
      "metadata": {
        "colab": {
          "base_uri": "https://localhost:8080/"
        },
        "id": "GKlR4MSzl8en",
        "outputId": "97a8bd36-9fa1-4df6-8aca-38632dd4dc46"
      },
      "execution_count": 12,
      "outputs": [
        {
          "output_type": "stream",
          "name": "stdout",
          "text": [
            "EV Tesla 100 kWh\n"
          ]
        }
      ]
    },
    {
      "cell_type": "markdown",
      "source": [
        "# 4. Demonstrate polymorphism by creating a base class Bird with a method fly(). Create two derived classes Sparrow and Penguin that override the fly() method."
      ],
      "metadata": {
        "id": "KugQINAtmDC-"
      }
    },
    {
      "cell_type": "code",
      "source": [
        "class Bird:\n",
        "    def fly(self):\n",
        "        print(\"Bird is flying\")\n",
        "\n",
        "class Sparrow(Bird):\n",
        "    def fly(self):\n",
        "        print(\"Sparrow flies high\")\n",
        "\n",
        "class Penguin(Bird):\n",
        "    def fly(self):\n",
        "        print(\"Penguins can't fly\")\n",
        "\n",
        "for bird in [Sparrow(), Penguin()]:\n",
        "    bird.fly()"
      ],
      "metadata": {
        "colab": {
          "base_uri": "https://localhost:8080/"
        },
        "id": "HtPYfmfPmEhZ",
        "outputId": "0d70ef63-bf82-44d0-99c8-f2676986a790"
      },
      "execution_count": 13,
      "outputs": [
        {
          "output_type": "stream",
          "name": "stdout",
          "text": [
            "Sparrow flies high\n",
            "Penguins can't fly\n"
          ]
        }
      ]
    },
    {
      "cell_type": "markdown",
      "source": [
        "# 5. Write a program to demonstrate encapsulation by creating a class BankAccount with private attributes balance and methods to deposit, withdraw, and check balance."
      ],
      "metadata": {
        "id": "PsaKde0kmKSv"
      }
    },
    {
      "cell_type": "code",
      "source": [
        "class BankAccount:\n",
        "    def __init__(self):\n",
        "        self.__balance = 0\n",
        "\n",
        "    def deposit(self, amount):\n",
        "        self.__balance += amount\n",
        "\n",
        "    def withdraw(self, amount):\n",
        "        if amount <= self.__balance:\n",
        "            self.__balance -= amount\n",
        "        else:\n",
        "            print(\"Insufficient balance\")\n",
        "\n",
        "    def get_balance(self):\n",
        "        return self.__balance\n",
        "\n",
        "acc = BankAccount()\n",
        "acc.deposit(1000)\n",
        "acc.withdraw(500)\n",
        "print(acc.get_balance())\n"
      ],
      "metadata": {
        "colab": {
          "base_uri": "https://localhost:8080/"
        },
        "id": "GhcTpWDUmXCF",
        "outputId": "6820ef8b-547b-4f61-e37d-eeb9588d4407"
      },
      "execution_count": 14,
      "outputs": [
        {
          "output_type": "stream",
          "name": "stdout",
          "text": [
            "500\n"
          ]
        }
      ]
    },
    {
      "cell_type": "markdown",
      "source": [
        "# 6. Demonstrate runtime polymorphism using a method play() in a base class Instrument. Derive classes Guitar and Piano that implement their own version of play()."
      ],
      "metadata": {
        "id": "IpVLfXSvmcyF"
      }
    },
    {
      "cell_type": "code",
      "source": [
        "class Instrument:\n",
        "    def play(self):\n",
        "        print(\"Instrument is playing\")\n",
        "\n",
        "class Guitar(Instrument):\n",
        "    def play(self):\n",
        "        print(\"Guitar is playing\")\n",
        "\n",
        "class Piano(Instrument):\n",
        "    def play(self):\n",
        "        print(\"Piano is playing\")\n",
        "\n",
        "for inst in [Guitar(), Piano()]:\n",
        "    inst.play()\n"
      ],
      "metadata": {
        "colab": {
          "base_uri": "https://localhost:8080/"
        },
        "id": "yg_VBczdmi5e",
        "outputId": "1c6767aa-0a01-4b1c-f4e8-a37f1cac360a"
      },
      "execution_count": 15,
      "outputs": [
        {
          "output_type": "stream",
          "name": "stdout",
          "text": [
            "Guitar is playing\n",
            "Piano is playing\n"
          ]
        }
      ]
    },
    {
      "cell_type": "markdown",
      "source": [
        "# 7. Create a class MathOperations with a class method add_numbers() to add two numbers and a static method subtract_numbers() to subtract two numbers."
      ],
      "metadata": {
        "id": "EDKF39zsmlPR"
      }
    },
    {
      "cell_type": "code",
      "source": [
        "class MathOperations:\n",
        "    @classmethod\n",
        "    def add_numbers(cls, a, b):\n",
        "        return a + b\n",
        "\n",
        "    @staticmethod\n",
        "    def subtract_numbers(a, b):\n",
        "        return a - b\n",
        "\n",
        "print(MathOperations.add_numbers(10, 5))\n",
        "print(MathOperations.subtract_numbers(10, 5))\n",
        ""
      ],
      "metadata": {
        "colab": {
          "base_uri": "https://localhost:8080/"
        },
        "id": "6H6tii0_mr_6",
        "outputId": "5b16d813-793a-42fd-c66c-fcda0cbb5f60"
      },
      "execution_count": 16,
      "outputs": [
        {
          "output_type": "stream",
          "name": "stdout",
          "text": [
            "15\n",
            "5\n"
          ]
        }
      ]
    },
    {
      "cell_type": "markdown",
      "source": [
        "# 8. Implement a class Person with a class method to count the total number of persons created."
      ],
      "metadata": {
        "id": "eLs2rBoxmweY"
      }
    },
    {
      "cell_type": "code",
      "source": [
        "class Person:\n",
        "    count = 0\n",
        "\n",
        "    def __init__(self):\n",
        "        Person.count += 1\n",
        "\n",
        "    @classmethod\n",
        "    def total_persons(cls):\n",
        "        return cls.count\n",
        "\n",
        "p1 = Person()\n",
        "p2 = Person()\n",
        "print(Person.total_persons())\n"
      ],
      "metadata": {
        "colab": {
          "base_uri": "https://localhost:8080/"
        },
        "id": "H6U2U_hAm0l_",
        "outputId": "08455ab9-aa75-4b93-b523-b41d2058a9ff"
      },
      "execution_count": 17,
      "outputs": [
        {
          "output_type": "stream",
          "name": "stdout",
          "text": [
            "2\n"
          ]
        }
      ]
    },
    {
      "cell_type": "markdown",
      "source": [
        "# 9. Write a class Fraction with attributes numerator and denominator. Override the str method to display the fraction as \"numerator/denominator\"."
      ],
      "metadata": {
        "id": "lSpc23X5m9IZ"
      }
    },
    {
      "cell_type": "code",
      "source": [
        "class Fraction:\n",
        "    def __init__(self, numerator, denominator):\n",
        "        self.numerator = numerator\n",
        "        self.denominator = denominator\n",
        "\n",
        "    def __str__(self):\n",
        "        return f\"{self.numerator}/{self.denominator}\"\n",
        "\n",
        "f = Fraction(3, 4)\n",
        "print(f)\n"
      ],
      "metadata": {
        "colab": {
          "base_uri": "https://localhost:8080/"
        },
        "id": "pC7DzcPenAtP",
        "outputId": "392b7dde-2490-4166-885f-b97b47a79c56"
      },
      "execution_count": 18,
      "outputs": [
        {
          "output_type": "stream",
          "name": "stdout",
          "text": [
            "3/4\n"
          ]
        }
      ]
    },
    {
      "cell_type": "markdown",
      "source": [
        "# 10. Demonstrate operator overloading by creating a class Vector and overriding the add method to add two Vctors."
      ],
      "metadata": {
        "id": "oFsoBcuNnChg"
      }
    },
    {
      "cell_type": "code",
      "source": [
        "class Vector:\n",
        "    def __init__(self, x, y):\n",
        "        self.x = x\n",
        "        self.y = y\n",
        "\n",
        "    def __add__(self, other):\n",
        "        return Vector(self.x + other.x, self.y + other.y)\n",
        "\n",
        "    def __str__(self):\n",
        "        return f\"({self.x}, {self.y})\"\n",
        "\n",
        "v1 = Vector(1, 2)\n",
        "v2 = Vector(3, 4)\n",
        "print(v1 + v2)\n"
      ],
      "metadata": {
        "colab": {
          "base_uri": "https://localhost:8080/"
        },
        "id": "uj_JUW8XnKRF",
        "outputId": "12508458-02f4-4625-86a7-80674e2163aa"
      },
      "execution_count": 19,
      "outputs": [
        {
          "output_type": "stream",
          "name": "stdout",
          "text": [
            "(4, 6)\n"
          ]
        }
      ]
    },
    {
      "cell_type": "markdown",
      "source": [
        "# 11. Create a class Person with attributes name and age. Add a method greet() that prints \"Hello, my name is {name} and I am {age} years old.\""
      ],
      "metadata": {
        "id": "VwCEGS0VnOzM"
      }
    },
    {
      "cell_type": "code",
      "source": [
        "class Person:\n",
        "    def __init__(self, name, age):\n",
        "        self.name = name\n",
        "        self.age = age\n",
        "\n",
        "    def greet(self):\n",
        "        print(f\"Hello, my name is {self.name} and I am {self.age} years old.\")\n",
        "\n",
        "p = Person(\"Abhijeet\", 22)\n",
        "p.greet()\n"
      ],
      "metadata": {
        "colab": {
          "base_uri": "https://localhost:8080/"
        },
        "id": "DVFJJ7m7nVFJ",
        "outputId": "6953ea5a-8058-46ca-f576-080deac6de8a"
      },
      "execution_count": 20,
      "outputs": [
        {
          "output_type": "stream",
          "name": "stdout",
          "text": [
            "Hello, my name is Abhijeet and I am 22 years old.\n"
          ]
        }
      ]
    },
    {
      "cell_type": "markdown",
      "source": [
        "# 12. Implement a class Student with attributes name and grades. Create a method average_grade() to compute the average of the grades."
      ],
      "metadata": {
        "id": "ZHehExSJnn00"
      }
    },
    {
      "cell_type": "code",
      "source": [
        "class Student:\n",
        "    def __init__(self, name, grades):\n",
        "        self.name = name\n",
        "        self.grades = grades\n",
        "\n",
        "    def average_grade(self):\n",
        "        return sum(self.grades) / len(self.grades)\n",
        "\n",
        "s = Student(\"Bob\", [80, 90, 70])\n",
        "print(s.average_grade())\n"
      ],
      "metadata": {
        "colab": {
          "base_uri": "https://localhost:8080/"
        },
        "id": "017oq_n4nsMC",
        "outputId": "a26644f5-a92c-46f2-af60-fd28915a9832"
      },
      "execution_count": 21,
      "outputs": [
        {
          "output_type": "stream",
          "name": "stdout",
          "text": [
            "80.0\n"
          ]
        }
      ]
    },
    {
      "cell_type": "markdown",
      "source": [
        "# 13. Create a class Rectangle with methods set_dimensions() to set the dimensions and area() to calculate the area."
      ],
      "metadata": {
        "id": "g5GjKbuwnwIZ"
      }
    },
    {
      "cell_type": "code",
      "source": [
        "class Rectangle:\n",
        "    def set_dimensions(self, width, height):\n",
        "        self.width = width\n",
        "        self.height = height\n",
        "\n",
        "    def area(self):\n",
        "        return self.width * self.height\n",
        "\n",
        "r = Rectangle()\n",
        "r.set_dimensions(5, 3)\n",
        "print(r.area())\n"
      ],
      "metadata": {
        "colab": {
          "base_uri": "https://localhost:8080/"
        },
        "id": "vkhv-Y9onvqN",
        "outputId": "74e1a272-1511-414a-9e1b-6994926eb538"
      },
      "execution_count": 22,
      "outputs": [
        {
          "output_type": "stream",
          "name": "stdout",
          "text": [
            "15\n"
          ]
        }
      ]
    },
    {
      "cell_type": "markdown",
      "source": [
        "# 14. Create a class Employee with a method calculate_salary() that computes the salary based on hours worked and hourly rate. Create a derived class Manager that adds a bonus to the salary."
      ],
      "metadata": {
        "id": "fhVUorxPn3rM"
      }
    },
    {
      "cell_type": "code",
      "source": [
        "class Employee:\n",
        "    def calculate_salary(self, hours, rate):\n",
        "        return hours * rate\n",
        "\n",
        "class Manager(Employee):\n",
        "    def calculate_salary(self, hours, rate, bonus):\n",
        "        base = super().calculate_salary(hours, rate)\n",
        "        return base + bonus\n",
        "\n",
        "m = Manager()\n",
        "print(m.calculate_salary(40, 50, 1000))\n"
      ],
      "metadata": {
        "colab": {
          "base_uri": "https://localhost:8080/"
        },
        "id": "qrfQJ0-rn7lS",
        "outputId": "0991879d-9533-4165-a84c-fde44e6946c9"
      },
      "execution_count": 23,
      "outputs": [
        {
          "output_type": "stream",
          "name": "stdout",
          "text": [
            "3000\n"
          ]
        }
      ]
    },
    {
      "cell_type": "markdown",
      "source": [
        "# 15. Create a class Product with attributes name, price, and quantity. Implement a method total_price() that calculates the total price of the product."
      ],
      "metadata": {
        "id": "qVmrs-pqn_e3"
      }
    },
    {
      "cell_type": "code",
      "source": [
        "class Product:\n",
        "    def __init__(self, name, price, quantity):\n",
        "        self.name = name\n",
        "        self.price = price\n",
        "        self.quantity = quantity\n",
        "\n",
        "    def total_price(self):\n",
        "        return self.price * self.quantity\n",
        "\n",
        "p = Product(\"Pen\", 10, 5)\n",
        "print(p.total_price())"
      ],
      "metadata": {
        "id": "KhTtvlk_oExe"
      },
      "execution_count": null,
      "outputs": []
    },
    {
      "cell_type": "markdown",
      "source": [
        "# 16. Create a class Animal with an abstract method sound(). Create two derived classes Cow and Sheep that implement the sound() method."
      ],
      "metadata": {
        "id": "esW-ZAUyoLDB"
      }
    },
    {
      "cell_type": "code",
      "source": [
        "from abc import ABC, abstractmethod\n",
        "\n",
        "class Animal(ABC):\n",
        "    @abstractmethod\n",
        "    def sound(self):\n",
        "        pass\n",
        "\n",
        "class Cow(Animal):\n",
        "    def sound(self):\n",
        "        print(\"Moo\")\n",
        "\n",
        "class Sheep(Animal):\n",
        "    def sound(self):\n",
        "        print(\"Baa\")\n",
        "\n",
        "Cow().sound()\n",
        "Sheep().sound()\n"
      ],
      "metadata": {
        "colab": {
          "base_uri": "https://localhost:8080/"
        },
        "id": "5JJa7LKToQTL",
        "outputId": "afc51225-ec58-49c8-d03a-6df641331b8d"
      },
      "execution_count": 24,
      "outputs": [
        {
          "output_type": "stream",
          "name": "stdout",
          "text": [
            "Moo\n",
            "Baa\n"
          ]
        }
      ]
    },
    {
      "cell_type": "markdown",
      "source": [
        "# 17. Create a class Book with attributes title, author, and year_published. Add a method get_book_info() that returns a formatted string with the book's details."
      ],
      "metadata": {
        "id": "yRG0lWaCoWLT"
      }
    },
    {
      "cell_type": "code",
      "source": [
        "class Book:\n",
        "    def __init__(self, title, author, year_published):\n",
        "        self.title = title\n",
        "        self.author = author\n",
        "        self.year_published = year_published\n",
        "\n",
        "    def get_book_info(self):\n",
        "        return f\"{self.title} by {self.author}, published in {self.year_published}\"\n",
        "\n",
        "b = Book(\"1984\", \"George Orwell\", 1949)\n",
        "print(b.get_book_info())"
      ],
      "metadata": {
        "colab": {
          "base_uri": "https://localhost:8080/"
        },
        "id": "DnDG4ZYxoYLs",
        "outputId": "bb82d640-3b04-48a0-b31a-2cfa50759e13"
      },
      "execution_count": 25,
      "outputs": [
        {
          "output_type": "stream",
          "name": "stdout",
          "text": [
            "1984 by George Orwell, published in 1949\n"
          ]
        }
      ]
    },
    {
      "cell_type": "markdown",
      "source": [
        "# 18. Create a class House with attributes address and price. Create a derived class Mansion that adds an attribute number_of_rooms."
      ],
      "metadata": {
        "id": "rqv5UH17oeLx"
      }
    },
    {
      "cell_type": "code",
      "source": [
        "class House:\n",
        "    def __init__(self, address, price):\n",
        "        self.address = address\n",
        "        self.price = price\n",
        "\n",
        "class Mansion(House):\n",
        "    def __init__(self, address, price, number_of_rooms):\n",
        "        super().__init__(address, price)\n",
        "        self.number_of_rooms = number_of_rooms\n",
        "\n",
        "m = Mansion(\"Sector116,Noida\", 7000000, 5)\n",
        "print(m.address, m.price, m.number_of_rooms)\n"
      ],
      "metadata": {
        "colab": {
          "base_uri": "https://localhost:8080/"
        },
        "id": "HJemDz5Ioh9J",
        "outputId": "cb91b32d-9eba-48ae-df5a-576672dbc26e"
      },
      "execution_count": 30,
      "outputs": [
        {
          "output_type": "stream",
          "name": "stdout",
          "text": [
            "Sector116,Noida 7000000 5\n"
          ]
        }
      ]
    }
  ]
}