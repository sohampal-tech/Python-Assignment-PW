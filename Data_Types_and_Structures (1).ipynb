{
  "nbformat": 4,
  "nbformat_minor": 0,
  "metadata": {
    "colab": {
      "provenance": []
    },
    "kernelspec": {
      "name": "python3",
      "display_name": "Python 3"
    },
    "language_info": {
      "name": "python"
    }
  },
  "cells": [
    {
      "cell_type": "markdown",
      "source": [
        "Q1. What are data structures, and why are they important?\n",
        "  - Data structures are specialized formats to store and organize data in a computer. They are important because they enable efficient data access, manipulation, and improve the performance of algorithms.\n",
        "\n",
        "Q2. Explain the difference between mutable and immutable data types with examples?\n",
        " - Mutable Data Types:These can be changed after creation.\n",
        " Examples: list, dict, set.\n",
        " Immutable Data Types:These cannot be changed after creation.\n",
        " Examples: int, float, str, tuple.\n",
        "\n",
        "Q3. What are the main differences between lists and tuples in Python?\n",
        " - Lists are mutable and use square brackets [].\n",
        "\n",
        "     Tuples are immutable and use parentheses ().\n",
        "\n",
        "Q4.  Describe how dictionaries store data?\n",
        "  - Dictionaries store data as key-value pairs using curly braces {}. Each key maps to a specific value, and keys must be unique.\n",
        "\n",
        "Q5.  Why might you use a set instead of a list in Python?\n",
        " - You might use a set instead of a list in Python because:\n",
        "Sets automatically remove duplicate elements, ensuring all items are unique.\n",
        "Set operations (like union, intersection, and membership tests) are faster due to underlying hash-based implementation.\n",
        " So, sets are ideal when uniqueness and fast lookup are needed.\n",
        "\n",
        "Q6.  What is a string in Python, and how is it different from a list?\n",
        " - A string in Python is a sequence of characters enclosed in single (''), double (\"\"), or triple quotes (''' or \"\"\").\n",
        "\n",
        " A string stores characters, while a list can store any data types (numbers, strings, etc.).Strings are immutable (cannot be changed after creation), but lists are mutable (elements can be modified).\n",
        "\n",
        "Q7. How do tuples ensure data integrity in Python?\n",
        " - Tuples are immutable, meaning their values cannot be changed after creation.\n",
        "This prevents accidental modification, helping to maintain data integrity.\n",
        "\n",
        "Q8. What is a hash table, and how does it relate to dictionaries in Python?\n",
        " - A hash table is a data structure that stores data in key-value pairs using a hash function to determine the index.\n",
        "\n",
        " In Python, a dictionary is implemented using a hash table for fast key-based access.\n",
        "\n",
        "Q9. Can lists contain different data types in Python?\n",
        " - Yes, lists can contain different data types like integers, strings, floats, or even other lists in a single list.\n",
        "\n",
        "Q10. Explain why strings are immutable in Python?\n",
        " - Strings are immutable to ensure data safety and allow faster performance through memory optimization and hashing.\n",
        "\n",
        "Q12. Describe a scenario where using a tuple would be preferable over a list?\n",
        " - Tuples are preferred when passing data as constants, such as function parameters or keys in a dictionary, since they are hashable and cannot be changed.\n",
        "\n",
        "Q13. How do sets handle duplicate values in Python?\n",
        " - Sets in Python automatically remove duplicate values. When duplicate elements are added, only one copy is kept.\n",
        "\n",
        "Q14. How does the “in” keyword work differently for lists and dictionaries?\n",
        "  - In lists, \"in\" checks if a value exists in the list. In dictionaries, \"in\" checks if a key exists, not the value.\n",
        "\n",
        "Q15.Can you modify the elements of a tuple? Explain why or why not.\n",
        " - No, you cannot modify elements of a tuple because tuples are immutable in Python. Once created, their values cannot be changed, which helps protect data from accidental changes.\n",
        "\n",
        "Q16.What is a nested dictionary, and give an example of its use case?\n",
        "  - A nested dictionary is a dictionary inside another dictionary. It's used to organize complex data in a structured way.\n",
        "  \n",
        "  EXAMPLE:\n",
        "   \n",
        "        students =  {\n",
        "    \n",
        "            \"101\": {\"name\": \"Amit\", \"age\": 20},\n",
        "    \n",
        "            \"102\": {\"name\": \"Sara\", \"age\": 22}\n",
        "        }\n",
        "\n",
        "Q17. Describe the time complexity of accessing elements in a dictionary.\n",
        "  - Accessing elements in a dictionary has an average time complexity of O(1) because it uses a hash table internally. This means access is very fast, regardless of the dictionary’s size.\n",
        "\n",
        "Q18.In what situations are lists preferred over dictionaries?\n",
        "  - Lists are preferred when you need an ordered collection with indexed access and no key-value pairs.\n",
        "\n",
        "Q19.Why are dictionaries considered unordered, and how does that affect data retrieval?\n",
        " - Dictionaries do not maintain the order of items (before Python 3.7), so elements are stored based on their hash values, not insertion order.\n",
        "\n",
        " This means you cannot rely on the order when retrieving items, but you can access values directly by keys quickly.\n",
        "\n",
        "Q20. Explain the difference between a list and a dictionary in terms of data    retrieval.\n",
        "- Lists retrieve data by index position, which can be slower for large lists.\n",
        "Dictionaries retrieve data by keys using hashing, making lookup faster and more efficient.\n",
        "\n",
        "\n",
        "\n",
        "\n",
        "\n",
        "\n",
        "\n",
        "\n",
        "\n",
        "\n",
        "\n"
      ],
      "metadata": {
        "id": "q3SVAtmBLib9"
      }
    },
    {
      "cell_type": "markdown",
      "source": [
        "Data Types and Structures practical Answer:"
      ],
      "metadata": {
        "id": "lFrdbU_Qsun0"
      }
    },
    {
      "cell_type": "markdown",
      "source": [
        "Q1.Write a code to create a string with your name and print it."
      ],
      "metadata": {
        "id": "UGyjn1DHs9xQ"
      }
    },
    {
      "cell_type": "code",
      "source": [
        "name = \"Soham Pal\"\n",
        "print(name)"
      ],
      "metadata": {
        "id": "0AfM8_9DtC8H"
      },
      "execution_count": null,
      "outputs": []
    },
    {
      "cell_type": "markdown",
      "source": [
        "Q2. Write a code to find the length of the string \"Hello World\"."
      ],
      "metadata": {
        "id": "bw2EtKKytHbP"
      }
    },
    {
      "cell_type": "code",
      "source": [
        "text = \"Hello World\"\n",
        "length = len(text)\n",
        "print(length)"
      ],
      "metadata": {
        "id": "jWpy5xuCtKZH"
      },
      "execution_count": null,
      "outputs": []
    },
    {
      "cell_type": "markdown",
      "source": [
        "Q3. Write a code to slice the first 3 characters from the string \"Python Programming\"."
      ],
      "metadata": {
        "id": "lmnI1hvftNiN"
      }
    },
    {
      "cell_type": "code",
      "source": [
        "text = \"Python Programming\"\n",
        "first_three = text[:3]\n",
        "print(first_three)"
      ],
      "metadata": {
        "id": "DZJkPLyUtR5B"
      },
      "execution_count": null,
      "outputs": []
    },
    {
      "cell_type": "markdown",
      "source": [
        "Q4. Write a code to convert the string \"hello\" to uppercase."
      ],
      "metadata": {
        "id": "FGd-p3QRtVtz"
      }
    },
    {
      "cell_type": "code",
      "source": [
        "text = \"hello\"\n",
        "upper_text = text.upper()\n",
        "print(upper_text)"
      ],
      "metadata": {
        "id": "7_raTIYftajE"
      },
      "execution_count": null,
      "outputs": []
    },
    {
      "cell_type": "markdown",
      "source": [
        "Q5. Write a code to replace the word \"apple\" with \"orange\" in the string \"I like apple\"."
      ],
      "metadata": {
        "id": "FOx3mxr4tfuF"
      }
    },
    {
      "cell_type": "code",
      "source": [
        "text = \"I like apple\"\n",
        "new_text = text.replace(\"apple\", \"orange\")\n",
        "print(new_text)"
      ],
      "metadata": {
        "id": "BzvHbOG1tkKq"
      },
      "execution_count": null,
      "outputs": []
    },
    {
      "cell_type": "markdown",
      "source": [
        "Q6. Write a code to create a list with numbers 1 to 5 and print it.\n",
        "\n"
      ],
      "metadata": {
        "id": "tcOu1GhitnCO"
      }
    },
    {
      "cell_type": "code",
      "source": [
        "numbers = [1, 2, 3, 4, 5]\n",
        "print(numbers)"
      ],
      "metadata": {
        "id": "fEv9okZUtt_v"
      },
      "execution_count": null,
      "outputs": []
    },
    {
      "cell_type": "markdown",
      "source": [
        "Q7. Write a code to append the number 10 to the list [1, 2, 3, 4]."
      ],
      "metadata": {
        "id": "ZTuzSP0ftxjs"
      }
    },
    {
      "cell_type": "code",
      "source": [
        "lst = [1, 2, 3, 4]\n",
        "lst.append(10)\n",
        "print(lst)"
      ],
      "metadata": {
        "id": "KkagvH02t08b"
      },
      "execution_count": null,
      "outputs": []
    },
    {
      "cell_type": "markdown",
      "source": [
        "Q8. Write a code to remove the number 3 from the list [1, 2, 3, 4, 5]."
      ],
      "metadata": {
        "id": "nHgYPNzIt4_l"
      }
    },
    {
      "cell_type": "code",
      "source": [
        "lst = [1, 2, 3, 4, 5]\n",
        "lst.remove(3)\n",
        "print(lst)"
      ],
      "metadata": {
        "id": "gq7FPSSVt74q"
      },
      "execution_count": null,
      "outputs": []
    },
    {
      "cell_type": "markdown",
      "source": [
        "Q9. Write a code to access the second element in the list ['a', 'b', 'c', 'd']."
      ],
      "metadata": {
        "id": "vLSQ5nGFt_IY"
      }
    },
    {
      "cell_type": "code",
      "source": [
        "my_list = ['a', 'b', 'c', 'd']\n",
        "second_element = my_list[1]\n",
        "second_element"
      ],
      "metadata": {
        "id": "M1KmO8zzuC1Q"
      },
      "execution_count": null,
      "outputs": []
    },
    {
      "cell_type": "markdown",
      "source": [
        "Q10. Write a code to reverse the list [10, 20, 30, 40, 50]."
      ],
      "metadata": {
        "id": "epYQ1WgkuWKq"
      }
    },
    {
      "cell_type": "code",
      "source": [
        "lst = [10, 20, 30, 40, 50]\n",
        "lst.reverse()\n",
        "print(lst)"
      ],
      "metadata": {
        "id": "rGqfa-3MuZzf"
      },
      "execution_count": null,
      "outputs": []
    },
    {
      "cell_type": "markdown",
      "source": [
        "Q11. Write a code to create a tuple with the elements 100, 200, 300 and print it."
      ],
      "metadata": {
        "id": "vJlHh9QBugl8"
      }
    },
    {
      "cell_type": "code",
      "source": [
        "t = (100, 200, 300)\n",
        "print(t)"
      ],
      "metadata": {
        "id": "X2eeUKW6ujzC"
      },
      "execution_count": null,
      "outputs": []
    },
    {
      "cell_type": "markdown",
      "source": [
        "Q12. Write a code to access the second-to-last element of the tuple ('red', 'green', 'blue', 'yellow')."
      ],
      "metadata": {
        "id": "cD4QjDajunHv"
      }
    },
    {
      "cell_type": "code",
      "source": [
        "t = ('red', 'green', 'blue', 'yellow')\n",
        "print(t[-2])"
      ],
      "metadata": {
        "id": "feyteFBOuqD0"
      },
      "execution_count": null,
      "outputs": []
    },
    {
      "cell_type": "markdown",
      "source": [
        "Q13. Write a code to find the minimum number in the tuple (10, 20, 5, 15)."
      ],
      "metadata": {
        "id": "a1OfF2HRuu3i"
      }
    },
    {
      "cell_type": "code",
      "source": [
        "t = (10, 20, 5, 15)\n",
        "print(min(t))"
      ],
      "metadata": {
        "id": "GvhsBwtUux8V"
      },
      "execution_count": null,
      "outputs": []
    },
    {
      "cell_type": "markdown",
      "source": [
        "Q14. Write a code to find the index of the element \"cat\" in the tuple ('dog', 'cat', 'rabbit')"
      ],
      "metadata": {
        "id": "pmxiEwBqu4ll"
      }
    },
    {
      "cell_type": "code",
      "source": [
        "t = ('dog', 'cat', 'rabbit')\n",
        "print(t.index('cat'))"
      ],
      "metadata": {
        "id": "RxVo91i8u7XA"
      },
      "execution_count": null,
      "outputs": []
    },
    {
      "cell_type": "markdown",
      "source": [
        "Q15. Write a code to create a tuple containing three different fruits and check if \"kiwi\" is in it."
      ],
      "metadata": {
        "id": "hcgnsb0eu-Z_"
      }
    },
    {
      "cell_type": "code",
      "source": [
        "fruits = (\"apple\", \"banana\", \"kiwi\")\n",
        "print(\"kiwi\" in fruits)"
      ],
      "metadata": {
        "id": "Z7g5JfAcvDG_"
      },
      "execution_count": null,
      "outputs": []
    },
    {
      "cell_type": "markdown",
      "source": [
        "Q16. . Write a code to create a set with the elements 'a', 'b', 'c' and print it."
      ],
      "metadata": {
        "id": "X8b9hQuOvQox"
      }
    },
    {
      "cell_type": "code",
      "source": [
        "s = {'a', 'b', 'c'}\n",
        "print(s)"
      ],
      "metadata": {
        "id": "A0Jqw-TnvTU5"
      },
      "execution_count": null,
      "outputs": []
    },
    {
      "cell_type": "markdown",
      "source": [
        "Q17. Write a code to clear all elements from the set {1, 2, 3, 4, 5}."
      ],
      "metadata": {
        "id": "cyq2i0s0vWG1"
      }
    },
    {
      "cell_type": "code",
      "source": [
        "s = {1, 2, 3, 4, 5}\n",
        "s.clear()\n",
        "print(s)"
      ],
      "metadata": {
        "id": "gi9JHAhzvYnW"
      },
      "execution_count": null,
      "outputs": []
    },
    {
      "cell_type": "markdown",
      "source": [
        "Q18. Write a code to remove the element 4 from the set {1, 2, 3, 4}."
      ],
      "metadata": {
        "id": "oIO4EbQ4vbP0"
      }
    },
    {
      "cell_type": "code",
      "source": [
        "s = {1, 2, 3, 4}\n",
        "s.remove(4)\n",
        "print(s)"
      ],
      "metadata": {
        "id": "a-vtP2pIveX3"
      },
      "execution_count": null,
      "outputs": []
    },
    {
      "cell_type": "markdown",
      "source": [
        "Q19. Write a code to find the union of two sets {1, 2, 3} and {3, 4, 5}."
      ],
      "metadata": {
        "id": "w5wo6cz5vlwf"
      }
    },
    {
      "cell_type": "code",
      "source": [
        "set1 = {1, 2, 3}\n",
        "set2 = {3, 4, 5}\n",
        "print(set1.union(set2))"
      ],
      "metadata": {
        "id": "7JRcssYevowi"
      },
      "execution_count": null,
      "outputs": []
    },
    {
      "cell_type": "markdown",
      "source": [
        "Q20. Write a code to find the intersection of two sets {1, 2, 3} and {2, 3, 4}."
      ],
      "metadata": {
        "id": "Dyqm-j7-vrgr"
      }
    },
    {
      "cell_type": "code",
      "source": [
        "set1 = {1, 2, 3}\n",
        "set2 = {2, 3, 4}\n",
        "print(set1.intersection(set2))"
      ],
      "metadata": {
        "id": "_Of__yDfvwRQ"
      },
      "execution_count": null,
      "outputs": []
    },
    {
      "cell_type": "markdown",
      "source": [
        "Q21. Write a code to create a dictionary with the keys \"name\", \"age\", and \"city\", and print it."
      ],
      "metadata": {
        "id": "-C032HlpwTXV"
      }
    },
    {
      "cell_type": "code",
      "source": [
        "person = {\"name\": \"Soham\", \"age\": 20, \"city\": \"Kolkata\"}\n",
        "print(person)"
      ],
      "metadata": {
        "id": "Y1XbNlzkwUSz"
      },
      "execution_count": null,
      "outputs": []
    },
    {
      "cell_type": "markdown",
      "source": [
        "Q22. Write a code to add a new key-value pair \"country\": \"USA\" to the dictionary {'name': 'John', 'age': 25}"
      ],
      "metadata": {
        "id": "AkTrBgc0wYHL"
      }
    },
    {
      "cell_type": "code",
      "source": [
        "person = {'name': 'John', 'age': 25}\n",
        "person['country'] = 'USA'\n",
        "print(person)"
      ],
      "metadata": {
        "id": "ol-1L2oVwayK"
      },
      "execution_count": null,
      "outputs": []
    },
    {
      "cell_type": "markdown",
      "source": [
        "Q23. Write a code to access the value associated with the key \"name\" in the dictionary {'name': 'Alice', 'age': 30}."
      ],
      "metadata": {
        "id": "tUucIZYQwdtj"
      }
    },
    {
      "cell_type": "code",
      "source": [
        "person = {'name': 'Alice', 'age': 30}\n",
        "print(person['name'])"
      ],
      "metadata": {
        "id": "zpLet_n0wiqE"
      },
      "execution_count": null,
      "outputs": []
    },
    {
      "cell_type": "markdown",
      "source": [
        "Q24. Write a code to remove the key \"age\" from the dictionary {'name': 'Bob', 'age': 22, 'city': 'New York'}."
      ],
      "metadata": {
        "id": "5LLWR0Ucwl7n"
      }
    },
    {
      "cell_type": "code",
      "source": [
        "person = {'name': 'Bob', 'age': 22, 'city': 'New York'}\n",
        "person.pop('age')\n",
        "print(person)"
      ],
      "metadata": {
        "id": "nGyF9FqQwog_"
      },
      "execution_count": null,
      "outputs": []
    },
    {
      "cell_type": "markdown",
      "source": [
        "Q25. Write a code to check if the key \"city\" exists in the dictionary {'name': 'Alice', 'city': 'Paris'}."
      ],
      "metadata": {
        "id": "PuXC5rNgwrSa"
      }
    },
    {
      "cell_type": "code",
      "source": [
        "person = {'name': 'Alice', 'city': 'Paris'}\n",
        "print('city' in person)"
      ],
      "metadata": {
        "id": "OX753E1rwxta"
      },
      "execution_count": null,
      "outputs": []
    },
    {
      "cell_type": "markdown",
      "source": [
        "Q26. Write a code to create a list, a tuple, and a dictionary, and print them all."
      ],
      "metadata": {
        "id": "gS_bt5qYw0v8"
      }
    },
    {
      "cell_type": "code",
      "source": [
        "my_list = [1, 2, 3]\n",
        "my_tuple = (4, 5, 6)\n",
        "my_dict = {'a': 7, 'b': 8}\n",
        "\n",
        "print(my_list)\n",
        "print(my_tuple)\n",
        "print(my_dict)"
      ],
      "metadata": {
        "id": "si9jnGwmw5z5"
      },
      "execution_count": null,
      "outputs": []
    },
    {
      "cell_type": "markdown",
      "source": [
        "Q27. Write a code to create a list of 5 random numbers between 1 and 100, sort it in ascending order, and print the result.(replaced)\n",
        "\n"
      ],
      "metadata": {
        "id": "SVQjLQEuw_E3"
      }
    },
    {
      "cell_type": "code",
      "source": [
        "import random\n",
        "numbers = [random.randint(1, 100) for _ in range(5)]\n",
        "numbers.sort()\n",
        "print(numbers)"
      ],
      "metadata": {
        "id": "RweEISJXxClK"
      },
      "execution_count": null,
      "outputs": []
    },
    {
      "cell_type": "markdown",
      "source": [
        "Q28. Write a code to create a list with strings and print the element at the third index."
      ],
      "metadata": {
        "id": "qHbx9KbexGlx"
      }
    },
    {
      "cell_type": "code",
      "source": [
        "strings = [\"apple\", \"banana\", \"cherry\", \"date\", \"fig\"]\n",
        "print(strings[3])"
      ],
      "metadata": {
        "id": "eHuckpmNxJag"
      },
      "execution_count": null,
      "outputs": []
    },
    {
      "cell_type": "markdown",
      "source": [
        "Q29. Write a code to combine two dictionaries into one and print the result."
      ],
      "metadata": {
        "id": "XVZkRvd0xMLC"
      }
    },
    {
      "cell_type": "code",
      "source": [
        "dict1 = {'a': 1, 'b': 2}\n",
        "dict2 = {'c': 3, 'd': 4}\n",
        "combined_dict = {**dict1, **dict2}\n",
        "print(combined_dict)"
      ],
      "metadata": {
        "id": "ZWgyHeLRxOtO"
      },
      "execution_count": null,
      "outputs": []
    },
    {
      "cell_type": "markdown",
      "source": [
        "Q30. Write a code to convert a list of strings into a set."
      ],
      "metadata": {
        "id": "RZ2yLGICxRYd"
      }
    },
    {
      "cell_type": "code",
      "source": [
        "string_list = [\"apple\", \"bAnana\", \"apple\", \"cherry\"]\n",
        "string_set = set(string_list)\n",
        "print(string_set)"
      ],
      "metadata": {
        "id": "OKgw9VrqxWmm"
      },
      "execution_count": null,
      "outputs": []
    }
  ]
}